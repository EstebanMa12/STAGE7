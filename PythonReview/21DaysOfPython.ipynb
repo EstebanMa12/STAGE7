{
 "cells": [
  {
   "cell_type": "code",
   "execution_count": 23,
   "metadata": {},
   "outputs": [],
   "source": [
    "def get_student_average(students):\n",
    "    class_average = [sum(student[\"grades\"])/len(student[\"grades\"]) for student in students]\n",
    "    output = {}\n",
    "    output[\"class_average\"] = round(sum(class_average)/len(class_average),2)\n",
    "    output[\"students\"] = []\n",
    "\n",
    "    for student in students:\n",
    "        student_output = {}\n",
    "        student_output[\"name\"] = student[\"name\"]\n",
    "        student_output[\"average\"] = round(sum(student[\"grades\"])/len(student[\"grades\"]),2)\n",
    "        output[\"students\"].append(student_output)\n",
    "        \n",
    "    return output"
   ]
  },
  {
   "cell_type": "code",
   "execution_count": 1,
   "metadata": {},
   "outputs": [],
   "source": [
    "students = [\n",
    "    {\n",
    "    \"name\": \"Pedro\",\n",
    "    \"grades\": [90, 87, 88, 90],\n",
    "    },\n",
    "    {\n",
    "    \"name\": \"Jose\",\n",
    "    \"grades\": [99, 71, 88, 96],\n",
    "    },\n",
    "    {\n",
    "    \"name\": \"Maria\",\n",
    "    \"grades\": [92, 81, 80, 96],\n",
    "    },\n",
    "]\n"
   ]
  },
  {
   "cell_type": "code",
   "execution_count": 22,
   "metadata": {},
   "outputs": [
    {
     "name": "stdout",
     "output_type": "stream",
     "text": [
      "{'class_average': 88.17, 'students': [{'name': 'Pedro', 'average': 88.75}, {'name': 'Jose', 'average': 88.5}, {'name': 'Maria', 'average': 87.25}]}\n"
     ]
    }
   ],
   "source": [
    "output = {}\n",
    "output[\"class_average\"] = round(sum(class_average)/len(class_average),2)\n",
    "output[\"students\"] = []\n",
    "\n",
    "for student in students:\n",
    "    student_output = {}\n",
    "    student_output[\"name\"] = student[\"name\"]\n",
    "    student_output[\"average\"] = round(sum(student[\"grades\"])/len(student[\"grades\"]),2)\n",
    "    output[\"students\"].append(student_output)\n",
    "\n",
    "print(output)"
   ]
  },
  {
   "cell_type": "code",
   "execution_count": 24,
   "metadata": {},
   "outputs": [
    {
     "data": {
      "text/plain": [
       "{'class_average': 88.17,\n",
       " 'students': [{'name': 'Pedro', 'average': 88.75},\n",
       "  {'name': 'Jose', 'average': 88.5},\n",
       "  {'name': 'Maria', 'average': 87.25}]}"
      ]
     },
     "execution_count": 24,
     "metadata": {},
     "output_type": "execute_result"
    }
   ],
   "source": [
    "get_student_average(students)"
   ]
  },
  {
   "cell_type": "markdown",
   "metadata": {},
   "source": [
    "Como las tuplas son inmutables, no se pueden actualizar un valor específico en una tupla. Pero se puede crear una nueva tupla a partir de una existente, utilizando la sintaxis tupla = tupla[:indice] + (nuevo_valor,) + tupla[indice+1:]."
   ]
  },
  {
   "cell_type": "code",
   "execution_count": 25,
   "metadata": {},
   "outputs": [
    {
     "name": "stdout",
     "output_type": "stream",
     "text": [
      "((1, 2), (7, 8), (5, 6))\n"
     ]
    }
   ],
   "source": [
    "puntos = ((1, 2), (3, 4), (5, 6))\n",
    "nuevo_punto = (7, 8)\n",
    "puntos = puntos[:1] + (nuevo_punto,) + puntos[2:]\n",
    "print(puntos)"
   ]
  },
  {
   "cell_type": "markdown",
   "metadata": {},
   "source": [
    "## Métodos más utilizados en las tuplas"
   ]
  },
  {
   "cell_type": "markdown",
   "metadata": {},
   "source": [
    "Aunque las tuplas son inmutables y no tienen métodos específicos como las listas, se pueden utilizar algunos métodos que aplican para cualquier objeto en Python."
   ]
  },
  {
   "cell_type": "code",
   "execution_count": 26,
   "metadata": {},
   "outputs": [
    {
     "name": "stdout",
     "output_type": "stream",
     "text": [
      "1\n"
     ]
    }
   ],
   "source": [
    "puntos = ((1, 2), (3, 4), (5, 6))\n",
    "print(puntos.index((3, 4))) # 1"
   ]
  },
  {
   "cell_type": "code",
   "execution_count": 27,
   "metadata": {},
   "outputs": [
    {
     "name": "stdout",
     "output_type": "stream",
     "text": [
      "3\n"
     ]
    }
   ],
   "source": [
    "numeros = (1, 2, 3, 2, 4, 2)\n",
    "print(numeros.count(2)) # 3"
   ]
  },
  {
   "cell_type": "code",
   "execution_count": 28,
   "metadata": {},
   "outputs": [
    {
     "name": "stdout",
     "output_type": "stream",
     "text": [
      "3\n"
     ]
    }
   ],
   "source": [
    "puntos = ((1, 2), (3, 4), (5, 6))\n",
    "print(len(puntos)) # 3"
   ]
  },
  {
   "cell_type": "code",
   "execution_count": 29,
   "metadata": {},
   "outputs": [
    {
     "name": "stdout",
     "output_type": "stream",
     "text": [
      "True\n",
      "False\n"
     ]
    }
   ],
   "source": [
    "#Verificar si un elemento está en una tupla:\n",
    "\n",
    "numeros = (1, 2, 3, 4, 5)\n",
    "print(3 in numeros)  # Salida: True\n",
    "print(6 in numeros)  # Salida: False"
   ]
  },
  {
   "cell_type": "code",
   "execution_count": 35,
   "metadata": {},
   "outputs": [],
   "source": [
    "def get_packages_info(packages):\n",
    "    total_weight = 0\n",
    "    destinations ={}\n",
    "    for package in packages:\n",
    "        total_weight += package[1]\n",
    "        if package[2] not in destinations:\n",
    "            destinations[package[2]] = 1\n",
    "        else:\n",
    "            destinations[package[2]] +=1\n",
    "    output = {\n",
    "        \"total_weight\": round(total_weight, 2),\n",
    "        \"destinations\": destinations\n",
    "    }\n",
    "    return output\n"
   ]
  },
  {
   "cell_type": "code",
   "execution_count": 31,
   "metadata": {},
   "outputs": [],
   "source": [
    "packages=[\n",
    "  (1, 20, \"Mexico\"),\n",
    "  (2, 15.5, \"Colombia\"),\n",
    "  (3, 30, \"Mexico\"),\n",
    "  (4, 12, \"Argentina\"),\n",
    "  (5, 8.2, \"Colombia\"),\n",
    "  (6, 25, \"Mexico\"),\n",
    "  (7, 18.7, \"Argentina\"),\n",
    "  (8, 5, \"Colombia\"),\n",
    "  (9, 22.3, \"Argentina\"),\n",
    "  (10, 14.8, \"Colombia\")\n",
    "]\n"
   ]
  },
  {
   "cell_type": "code",
   "execution_count": 36,
   "metadata": {},
   "outputs": [
    {
     "data": {
      "text/plain": [
       "{'total_weight': 171.5,\n",
       " 'destinations': {'Mexico': 3, 'Colombia': 4, 'Argentina': 3}}"
      ]
     },
     "execution_count": 36,
     "metadata": {},
     "output_type": "execute_result"
    }
   ],
   "source": [
    "get_packages_info(packages)\n"
   ]
  },
  {
   "cell_type": "code",
   "execution_count": null,
   "metadata": {},
   "outputs": [],
   "source": [
    "def find_largest_palindrome(words):\n",
    "    largest = 0\n",
    "    palindrome = \"\"\n",
    "\n",
    "    for word in words:\n",
    "        if word == word[::-1] and len(word) > largest:\n",
    "            palindrome = word\n",
    "        largest = len(word)\n",
    "        \n",
    "    return palindrome if palindrome else None"
   ]
  },
  {
   "cell_type": "markdown",
   "metadata": {},
   "source": [
    "Algunos de los métodos más utilizados en los sets de Python son:\n",
    "\n",
    "add(value): este método agrega un valor único al set. Si se intenta agregar un valor que ya existe en el set, no ocurrirá ningún cambio.\n",
    "\n",
    "remove(value): este método elimina un valor específico del set. Si el valor no existe, se generará un error.\n",
    "\n",
    "discard(value): este método elimina un valor específico del set. Si el valor no existe, no se genera ningún error.\n",
    "\n",
    "pop(): este método elimina y devuelve un elemento aleatorio del set.\n",
    "\n",
    "clear(): este método vacía completamente el set.\n",
    "\n",
    "len(): esta función devuelve la cantidad de elementos que existen en el set."
   ]
  },
  {
   "cell_type": "code",
   "execution_count": 42,
   "metadata": {},
   "outputs": [
    {
     "name": "stdout",
     "output_type": "stream",
     "text": [
      "{1, 2, 3}\n",
      "True\n",
      "{2, 3}\n",
      "{1, 2, 3, 4, 5, 6}\n",
      "set()\n"
     ]
    }
   ],
   "source": [
    "my_set = set()\n",
    "\n",
    "my_set.add(1)\n",
    "my_set.add(2)\n",
    "my_set.add(3)\n",
    "\n",
    "print(my_set) # {1, 2, 3}\n",
    "\n",
    "print(2 in my_set)\n",
    "\n",
    "my_set.remove(1)\n",
    "print(my_set) # {2, 3}\n",
    "# Sets are unordered collections of unique elements\n",
    "# Sets are mutable\n",
    "# Sets are unindexed\n",
    "\n",
    "my_set = {1, 2, 3, 4, 5}\n",
    "\n",
    "my_set.add(6)\n",
    "print(my_set) # {1, 2, 3, 4, 5, 6}\n",
    "\n",
    "my_set.clear()\n",
    "print(my_set) # set()\n"
   ]
  },
  {
   "cell_type": "code",
   "execution_count": 43,
   "metadata": {},
   "outputs": [
    {
     "name": "stdout",
     "output_type": "stream",
     "text": [
      "{4, 5}\n",
      "{4, 5}\n"
     ]
    }
   ],
   "source": [
    "set1 = {1, 2, 3, 4, 5}\n",
    "set2 = {4, 5, 6, 7, 8}\n",
    "\n",
    "# Usando el método intersection()\n",
    "intersection = set1.intersection(set2)\n",
    "print(intersection)  # Output: {4, 5}\n",
    "\n",
    "# Usando el operador &\n",
    "intersection = set1 & set2\n",
    "print(intersection)  # Output: {4, 5}"
   ]
  },
  {
   "cell_type": "code",
   "execution_count": null,
   "metadata": {},
   "outputs": [],
   "source": [
    "def find_set_intersection(sets):\n",
    "    if not sets:\n",
    "        return set()\n",
    "    intersection = sets[0]\n",
    "    for i in sets[1:]:\n",
    "        intersection = intersection.intersection(i)\n",
    "    return intersection"
   ]
  },
  {
   "cell_type": "code",
   "execution_count": null,
   "metadata": {},
   "outputs": [],
   "source": [
    "def find_words_with_two_vowels(words):\n",
    "    vowels = \"aeiouAEIOU\"\n",
    "    return [word for word in words if sum(1 for char in word if char in vowels)==2]"
   ]
  },
  {
   "cell_type": "code",
   "execution_count": 44,
   "metadata": {},
   "outputs": [
    {
     "name": "stdout",
     "output_type": "stream",
     "text": [
      "{'María': 30}\n",
      "{'Juan': 4, 'María': 5, 'Pedro': 5}\n"
     ]
    }
   ],
   "source": [
    "personas = [(\"Juan\", 25), (\"María\", 30), (\"Pedro\", 20)]\n",
    "\n",
    "# Crear un nuevo diccionario con el nombre como clave y la edad como valor, solo para personas mayores de 25 años\n",
    "personas_mayores = {nombre: edad for nombre, edad in personas if edad > 25}\n",
    "print(personas_mayores)  # Output: {'María': 30}\n",
    "\n",
    "# Crear un nuevo diccionario con el nombre como clave y la longitud del nombre como valor para todas las personas\n",
    "diccionario_longitudes = {nombre: len(nombre) for nombre, _ in personas}\n",
    "print(diccionario_longitudes)  # Output: {'Juan': 4, 'María': 5, 'Pedro': 5}"
   ]
  }
 ],
 "metadata": {
  "kernelspec": {
   "display_name": "Python 3",
   "language": "python",
   "name": "python3"
  },
  "language_info": {
   "codemirror_mode": {
    "name": "ipython",
    "version": 3
   },
   "file_extension": ".py",
   "mimetype": "text/x-python",
   "name": "python",
   "nbconvert_exporter": "python",
   "pygments_lexer": "ipython3",
   "version": "3.10.12"
  }
 },
 "nbformat": 4,
 "nbformat_minor": 2
}
